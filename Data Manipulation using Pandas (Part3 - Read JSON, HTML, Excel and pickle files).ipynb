{
 "cells": [
  {
   "cell_type": "markdown",
   "metadata": {},
   "source": [
    "## Day15 - Data Manipulation using Pandas (Part3 - Read JSON, HTML, Excel and pickle files)\n",
    "\n",
    "- Pandas is an open-source Python Library providing high-performance data manipulation and analysis tool using its powerful data structures.\n",
    "- Self Learning Resource\n",
    "    - Pandas in 10 Minutes: <a href=\"https://pandas.pydata.org/pandas-docs/stable/user_guide/10min.html\"> Click Here </a>\n",
    "    - Video1: https://www.youtube.com/watch?v=QUClKFFn1Vk\n",
    "    - Video2: https://www.youtube.com/watch?v=tW1BWtQRZ2M\n",
    "    - Video3: https://www.youtube.com/watch?v=xx4Vkc5RrWY\n",
    "    \n",
    "\n",
    "\n",
    "##### Note: \n",
    "1. First Clean the Evironment (Go to \"Kernel\" Menu --> \"Restart & Clean Output\"\n",
    "2. To execute the code --> Click on a cell and press cntrl + enter key"
   ]
  },
  {
   "cell_type": "markdown",
   "metadata": {},
   "source": [
    "# <span style='color:Red'>Working with JSON, HTML, Excel and pickle files</span>\n",
    "\n",
    "##  <span style='color:Blue'>1. Read JSON and write CSV</span>"
   ]
  },
  {
   "cell_type": "markdown",
   "metadata": {},
   "source": [
    "### 1.1 JSON data"
   ]
  },
  {
   "cell_type": "code",
   "execution_count": null,
   "metadata": {},
   "outputs": [],
   "source": [
    "Data = '{\"EName\": [\"James\",\"Max\"],\"Email\": [\"j@il.com\",\"m@il.com\"],\"Profile\": [\"Team Lead\", \"Sr. Developer\"]}'\n",
    "Data"
   ]
  },
  {
   "cell_type": "markdown",
   "metadata": {},
   "source": [
    "### 1.2 Json to data frame"
   ]
  },
  {
   "cell_type": "code",
   "execution_count": null,
   "metadata": {},
   "outputs": [],
   "source": [
    "import pandas as pd\n",
    "\n",
    "# Json Data File\n",
    "Data = '{\"EName\": [\"James\",\"Max\"],\"Email\": [\"j@il.com\",\"m@il.com\"],\"Profile\": [\"Team Lead\", \"Sr. Developer\"]}'\n",
    "\n",
    "df = pd.read_json(Data)\n",
    "df\n",
    "\n",
    "#type(df)"
   ]
  },
  {
   "cell_type": "markdown",
   "metadata": {},
   "source": [
    "### 1.3 Json to data frame to CSV"
   ]
  },
  {
   "cell_type": "code",
   "execution_count": null,
   "metadata": {},
   "outputs": [],
   "source": [
    "import pandas as pd\n",
    "\n",
    "# Json Data File\n",
    "Data = '{\"EName\": [\"James\",\"Max\"],\"Email\": [\"j@il.com\",\"m@il.com\"],\"Profile\": [\"Team Lead\", \"Sr. Developer\"]}'\n",
    "\n",
    "df = pd.read_json(Data)\n",
    "\n",
    "df.to_csv('15JData.csv')\n",
    "# Open 15JData.csv"
   ]
  },
  {
   "cell_type": "markdown",
   "metadata": {},
   "source": [
    "### 1.4 Read Wine Data from url and save to csv"
   ]
  },
  {
   "cell_type": "code",
   "execution_count": null,
   "metadata": {},
   "outputs": [],
   "source": [
    "# Part1: Read Data\n",
    "import pandas as pd\n",
    "\n",
    "#df = pd.read_csv('https://archive.ics.uci.edu/ml/machine-learning-databases/wine/wine.data', header=None)\n",
    "df = pd.read_csv('wine15.data', header=None)\n",
    "\n",
    "df.head()"
   ]
  },
  {
   "cell_type": "markdown",
   "metadata": {},
   "source": [
    "##### Write to CSV"
   ]
  },
  {
   "cell_type": "code",
   "execution_count": null,
   "metadata": {},
   "outputs": [],
   "source": [
    "df.to_csv(\"wine15.csv\", index = False)"
   ]
  },
  {
   "cell_type": "markdown",
   "metadata": {},
   "source": [
    "### 1.5 Read Wine CSV "
   ]
  },
  {
   "cell_type": "code",
   "execution_count": null,
   "metadata": {
    "scrolled": true
   },
   "outputs": [],
   "source": [
    "import pandas as pd\n",
    "\n",
    "df = pd.read_csv('wine15.csv')\n",
    "df.head()"
   ]
  },
  {
   "cell_type": "markdown",
   "metadata": {},
   "source": [
    "##  <span style='color:Blue'>2. Read Data from HTML</span>"
   ]
  },
  {
   "cell_type": "markdown",
   "metadata": {},
   "source": [
    "### 2.1 Read HTML content (Bank List)"
   ]
  },
  {
   "cell_type": "code",
   "execution_count": null,
   "metadata": {},
   "outputs": [],
   "source": [
    "#url = 'https://www.fdic.gov/bank/individual/failed/banklist.html'\n",
    "url = 'banklist15.html'\n",
    "\n",
    "table = pd.read_html(url) # Read table from HTML file\n",
    "\n",
    "#table\n",
    "\n",
    "#table[0]\n",
    "\n",
    "#type(table)\n",
    "\n",
    "# Question: Write the table content to CSV file\n"
   ]
  },
  {
   "cell_type": "markdown",
   "metadata": {},
   "source": [
    "### 2.2 Read HTML content (Mobile_country_code)"
   ]
  },
  {
   "cell_type": "code",
   "execution_count": null,
   "metadata": {},
   "outputs": [],
   "source": [
    "#url = 'https://en.wikipedia.org/wiki/Mobile_country_code'\n",
    "url = 'mcc15.html'\n",
    "\n",
    "table = pd.read_html(url, match='Country', header=0)\n",
    "\n",
    "table \n",
    "\n",
    "#table[0]\n",
    "\n",
    "#type(table)\n",
    "\n",
    "# Question: Write the table content to CSV file\n"
   ]
  },
  {
   "cell_type": "markdown",
   "metadata": {},
   "source": [
    "##  <span style='color:Blue'>3. Read excel file</span>"
   ]
  },
  {
   "cell_type": "markdown",
   "metadata": {},
   "source": [
    "### 3.1 Read data from excel file"
   ]
  },
  {
   "cell_type": "code",
   "execution_count": null,
   "metadata": {},
   "outputs": [],
   "source": [
    "import pandas as pd\n",
    "\n",
    "df = pd.read_excel('data15.xlsx')       # Default Sheet 0 will read\n",
    "df.head()\n"
   ]
  },
  {
   "cell_type": "markdown",
   "metadata": {},
   "source": [
    "### 3.2 Read excel sheets using name"
   ]
  },
  {
   "cell_type": "code",
   "execution_count": null,
   "metadata": {},
   "outputs": [],
   "source": [
    "import pandas as pd\n",
    "\n",
    "df1 = pd.read_excel('data15.xlsx',sheet_name='file1')       # Read Sheet 0\n",
    "df2 = pd.read_excel('data15.xlsx',sheet_name='file2')       # Read Sheet 1\n",
    "df3 = pd.read_excel('data15.xlsx',sheet_name='file3')       # Read Sheet 2\n",
    "\n",
    "print(\"Sheet.file1 --> \", df1.shape)\n",
    "print(\"Sheet.file2 --> \", df2.shape)\n",
    "print(\"Sheet.file3 --> \", df3.shape)\n"
   ]
  },
  {
   "cell_type": "markdown",
   "metadata": {},
   "source": [
    "### 3.3 Read excel sheets using number"
   ]
  },
  {
   "cell_type": "code",
   "execution_count": null,
   "metadata": {},
   "outputs": [],
   "source": [
    "import pandas as pd\n",
    "\n",
    "df1 = pd.read_excel('data15.xlsx',sheet_name=0)       # Read Sheet 0\n",
    "df2 = pd.read_excel('data15.xlsx',sheet_name=1)       # Read Sheet 1\n",
    "df3 = pd.read_excel('data15.xlsx',sheet_name=2)       # Read Sheet 2\n",
    "\n",
    "print(\"Sheet.0 --> \", df1.shape)\n",
    "print(\"Sheet.1 --> \", df2.shape)\n",
    "print(\"Sheet.2 --> \", df3.shape)\n"
   ]
  },
  {
   "cell_type": "markdown",
   "metadata": {},
   "source": [
    "##  <span style='color:Blue'>4. Pickling</span>\n",
    "- To store the python object to disk.\n",
    "- e.g.1  Storing Trained Machine Learning Model to file.\n",
    "- e.g.2  Store Neural Network after every 100 iterations. Restart execution where it got failed, due to kernal restart or any other exception.\n",
    "- Re-load the pickel file when needed."
   ]
  },
  {
   "cell_type": "markdown",
   "metadata": {},
   "source": [
    "### 4.1 Save data to pickel file"
   ]
  },
  {
   "cell_type": "code",
   "execution_count": null,
   "metadata": {},
   "outputs": [],
   "source": [
    "import pandas as pd\n",
    "\n",
    "df = pd.read_excel('data15.xlsx',sheet_name=0)       # Read Sheet 0\n",
    "\n",
    "df.to_pickle('pickel15')"
   ]
  },
  {
   "cell_type": "markdown",
   "metadata": {},
   "source": [
    "### 4.2 Read data from pickel file"
   ]
  },
  {
   "cell_type": "code",
   "execution_count": null,
   "metadata": {},
   "outputs": [],
   "source": [
    "import pandas as pd\n",
    "\n",
    "df = pd.read_pickle('pickel15')\n",
    "\n",
    "df.head()"
   ]
  }
 ],
 "metadata": {
  "kernelspec": {
   "display_name": "Python 3",
   "language": "python",
   "name": "python3"
  },
  "language_info": {
   "codemirror_mode": {
    "name": "ipython",
    "version": 3
   },
   "file_extension": ".py",
   "mimetype": "text/x-python",
   "name": "python",
   "nbconvert_exporter": "python",
   "pygments_lexer": "ipython3",
   "version": "3.7.7"
  }
 },
 "nbformat": 4,
 "nbformat_minor": 2
}
