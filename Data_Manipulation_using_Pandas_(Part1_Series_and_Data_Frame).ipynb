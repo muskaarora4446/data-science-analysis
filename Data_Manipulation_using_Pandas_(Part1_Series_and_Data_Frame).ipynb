{
  "cells": [
    {
      "cell_type": "markdown",
      "metadata": {
        "id": "PwOBtyEaAS59"
      },
      "source": [
        "## Day13 - Data Manipulation using Pandas (Part1 - Series and Data Frame)\n",
        "\n",
        "- Pandas is an open-source Python Library providing high-performance data manipulation and analysis tool using its powerful data structures.\n",
        "- Self Learning Resource\n",
        "    - Pandas in 10 Minutes: <a href=\"https://pandas.pydata.org/pandas-docs/stable/user_guide/10min.html\"> Click Here </a>\n",
        "    - Video1: https://www.youtube.com/watch?v=QUClKFFn1Vk\n",
        "    - Video2: https://www.youtube.com/watch?v=tW1BWtQRZ2M\n",
        "    - Video3: https://www.youtube.com/watch?v=xx4Vkc5RrWY\n",
        "    \n",
        "\n",
        "\n",
        "##### Note: \n",
        "1. First Clean the Evironment (Go to \"Kernel\" Menu --> \"Restart & Clean Output\"\n",
        "2. To execute the code --> Click on a cell and press cntrl + enter key\n"
      ]
    },
    {
      "cell_type": "markdown",
      "metadata": {
        "id": "NOGeoVogAS6G"
      },
      "source": [
        "## Key Features of Pandas\n",
        "- Fast and efficient DataFrame object with default and customized indexing.\n",
        "- Tools for loading data into in-memory data objects from different file formats.\n",
        "- Data alignment and integrated handling of missing data.\n",
        "- Reshaping and pivoting of date sets.\n",
        "- Label-based slicing, indexing and subsetting of large data sets.\n",
        "- Columns from a data structure can be deleted or inserted.\n",
        "- Group by data for aggregation and transformations.\n",
        "- High performance merging and joining of data.\n",
        "- Time Series functionality.\n"
      ]
    },
    {
      "cell_type": "markdown",
      "metadata": {
        "id": "t_XNZDd2AS6K"
      },
      "source": [
        "# Import pandas library"
      ]
    },
    {
      "cell_type": "code",
      "execution_count": null,
      "metadata": {
        "id": "ABSpToWKAS6N"
      },
      "outputs": [],
      "source": [
        "import pandas as pd"
      ]
    },
    {
      "cell_type": "markdown",
      "metadata": {
        "id": "jP2r22NIAS6O"
      },
      "source": [
        "## <span style='color:Red'> 1. Working with Series</span>\n",
        "- Series is a one-dimensional labeled array"
      ]
    },
    {
      "cell_type": "markdown",
      "metadata": {
        "id": "rW3FCiB7AS6P"
      },
      "source": [
        "### 1.1 Create a series using list"
      ]
    },
    {
      "cell_type": "code",
      "execution_count": null,
      "metadata": {
        "id": "vEUDUoJtAS6R"
      },
      "outputs": [],
      "source": [
        "import pandas as pd\n",
        "\n",
        "a1 = [1, 3, 5, 7, 9, 2, 4, 6, 8]\n",
        "a2 = pd.Series(a1)\n",
        "\n",
        "print(a2)"
      ]
    },
    {
      "cell_type": "markdown",
      "metadata": {
        "id": "C3UZQ-4_AS6R"
      },
      "source": [
        "### 1.2 A series has been created with data along with it's Index"
      ]
    },
    {
      "cell_type": "code",
      "execution_count": null,
      "metadata": {
        "scrolled": false,
        "id": "pz2bRedMAS6S"
      },
      "outputs": [],
      "source": [
        "import pandas as pd\n",
        "\n",
        "a1 = [1, 3, 5, 7, 9, 2, 4, 6, 8]\n",
        "a2 = ['a','b','c','d','e','f','g','h','i']\n",
        "a3 = pd.Series(a1, a2)\n",
        "#a3 = pd.Series(a2, a1)\n",
        "print(a3)"
      ]
    },
    {
      "cell_type": "markdown",
      "metadata": {
        "id": "o1lb93z4AS6U"
      },
      "source": [
        "##### Access the data in series"
      ]
    },
    {
      "cell_type": "code",
      "execution_count": null,
      "metadata": {
        "scrolled": false,
        "id": "bAHxg4OiAS6W"
      },
      "outputs": [],
      "source": [
        "print (\"a3['b'] -->\",a3['b'])\n",
        "print (\"a3['i'] -->\",a3['i'])"
      ]
    },
    {
      "cell_type": "markdown",
      "metadata": {
        "id": "YKxl5J7XAS6X"
      },
      "source": [
        "### 1.3 Creating a series using dictionary"
      ]
    },
    {
      "cell_type": "code",
      "execution_count": null,
      "metadata": {
        "scrolled": true,
        "id": "H6kCe4XrAS6Y"
      },
      "outputs": [],
      "source": [
        "import pandas as pd\n",
        "\n",
        "d1 = {'Oranges':3, 'Apples':4, 'Mangoes':2, 'Banana':12}\n",
        "d2 = pd.Series(d1)\n",
        "\n",
        "print (d2)\n",
        "print (type(d2))"
      ]
    },
    {
      "cell_type": "markdown",
      "metadata": {
        "id": "A2-vHdWwAS6Z"
      },
      "source": [
        "### 1.4 Creating a series using nested list"
      ]
    },
    {
      "cell_type": "code",
      "execution_count": null,
      "metadata": {
        "id": "AlbLxee6AS6a"
      },
      "outputs": [],
      "source": [
        "import pandas as pd\n",
        "\n",
        "a1 = [[1,3,5],[2,4,6]]\n",
        "a2 = pd.Series(a1)\n",
        "\n",
        "print (a2)"
      ]
    },
    {
      "cell_type": "markdown",
      "metadata": {
        "id": "MH_rwBORAS6a"
      },
      "source": [
        "## <span style='color:Red'> 2. DataFrames</span>\n",
        "- DataFrames are 2 dimensional data structure which has rows and columns."
      ]
    },
    {
      "cell_type": "markdown",
      "metadata": {
        "id": "rZtoyr19AS6b"
      },
      "source": [
        "### 2.1 Creating a data frame using dictionary"
      ]
    },
    {
      "cell_type": "code",
      "execution_count": null,
      "metadata": {
        "id": "tBbZXEJ6AS6b"
      },
      "outputs": [],
      "source": [
        "import pandas as pd\n",
        "\n",
        "d1 = {'Age':[23,33,12,45],'Name':['Rahul','John','Robert','Sneha']}\n",
        "d2 = pd.DataFrame(d1)\n",
        "\n",
        "d2"
      ]
    },
    {
      "cell_type": "markdown",
      "metadata": {
        "id": "-VvlMY-cAS6d"
      },
      "source": [
        "### 2.2 Creating a data frame using nested list"
      ]
    },
    {
      "cell_type": "code",
      "execution_count": null,
      "metadata": {
        "id": "c4CR1eDFAS6d"
      },
      "outputs": [],
      "source": [
        "import pandas as pd\n",
        "\n",
        "d1 = [[4,1900],[3,1600],[2,1100],[1,850]]\n",
        "d2 = pd.DataFrame(d1, columns = ['Bedrooms','Area'])\n",
        "\n",
        "d2"
      ]
    },
    {
      "cell_type": "markdown",
      "metadata": {
        "id": "IgMkcUiMAS6e"
      },
      "source": [
        "### 2.3 Assigning indexes within a data frame"
      ]
    },
    {
      "cell_type": "code",
      "execution_count": null,
      "metadata": {
        "id": "vRruCqapAS6e"
      },
      "outputs": [],
      "source": [
        "import pandas as pd\n",
        "\n",
        "d1 = {'Name':['Ankit','Rishitha','Karthik','Vishnu'],'Marks':[78,67,98,56]}\n",
        "d2 = pd.DataFrame(d1,index = ['Rank 2','Rank 3','Rank 1','Rank 4'])\n",
        "\n",
        "d2"
      ]
    },
    {
      "cell_type": "markdown",
      "metadata": {
        "id": "WUpNWNH4AS6f"
      },
      "source": [
        "### 2.4 Creating data frame using list of dictionaries"
      ]
    },
    {
      "cell_type": "code",
      "execution_count": null,
      "metadata": {
        "id": "JACsK8yHAS6f"
      },
      "outputs": [],
      "source": [
        "import pandas as pd\n",
        "\n",
        "d1 = [{'A':65,'B':66,'C':67},{'A':97,'B':98,'C':99}]\n",
        "d2 = pd.DataFrame(d1)\n",
        "\n",
        "d2"
      ]
    },
    {
      "cell_type": "markdown",
      "metadata": {
        "id": "p4pcX6vTAS6g"
      },
      "source": [
        "### 2.5 Creating random data frame"
      ]
    },
    {
      "cell_type": "code",
      "execution_count": null,
      "metadata": {
        "id": "bXuPqFBRAS6g"
      },
      "outputs": [],
      "source": [
        "import numpy as np\n",
        "import pandas as pd\n",
        "import random as r\n",
        "import string as s\n",
        "\n",
        "df = pd.DataFrame({'A': [r.randint(1, 9)     for x in range(5)],\n",
        "                   'B': [r.randint(1, 9)*10  for x in range(5)],\n",
        "                   'C': [r.randint(1, 9)*100 for x in range(5)],\n",
        "                   'D': [ \"\".join(r.sample(s.ascii_letters,5)) for x in range(5)],\n",
        "                   'E': 'Hello',\n",
        "                   'F': 1})\n",
        "\n",
        "df"
      ]
    },
    {
      "cell_type": "markdown",
      "metadata": {
        "id": "te48NyzmAS6h"
      },
      "source": [
        "### 2.6 Describe the data frame"
      ]
    },
    {
      "cell_type": "code",
      "execution_count": null,
      "metadata": {
        "id": "rkwDp_j-AS6h"
      },
      "outputs": [],
      "source": [
        "df.describe()  # Only numeric columns are selected"
      ]
    },
    {
      "cell_type": "markdown",
      "metadata": {
        "id": "aNTTpf0yAS6h"
      },
      "source": [
        "### 2.7 Date as index"
      ]
    },
    {
      "cell_type": "code",
      "execution_count": null,
      "metadata": {
        "id": "O-Q9Vol7AS6i"
      },
      "outputs": [],
      "source": [
        "import numpy as np\n",
        "import pandas as pd\n",
        "\n",
        "dates = pd.date_range('20130101', periods=6)\n",
        "dates"
      ]
    },
    {
      "cell_type": "code",
      "execution_count": null,
      "metadata": {
        "id": "Mf8erraOAS6i"
      },
      "outputs": [],
      "source": [
        "df = pd.DataFrame(np.random.randn(6, 4), index=dates, columns=list('ABCD'))\n",
        "df"
      ]
    },
    {
      "cell_type": "markdown",
      "metadata": {
        "id": "KOSErj8_AS6i"
      },
      "source": [
        "### 2.8 List the column names"
      ]
    },
    {
      "cell_type": "code",
      "execution_count": null,
      "metadata": {
        "id": "oMu5jKlhAS6j"
      },
      "outputs": [],
      "source": [
        "df.columns"
      ]
    },
    {
      "cell_type": "markdown",
      "metadata": {
        "id": "Wb8qgvseAS6j"
      },
      "source": [
        "### 2.9 List the index names    "
      ]
    },
    {
      "cell_type": "code",
      "execution_count": null,
      "metadata": {
        "id": "SZZQUF7sAS6k"
      },
      "outputs": [],
      "source": [
        "df.index"
      ]
    },
    {
      "cell_type": "markdown",
      "metadata": {
        "id": "2Tnt3uFUAS6k"
      },
      "source": [
        "### 2.10 Sorting by an axis"
      ]
    },
    {
      "cell_type": "code",
      "execution_count": null,
      "metadata": {
        "id": "DbjmtOW3AS6k"
      },
      "outputs": [],
      "source": [
        "df.sort_index(axis=1, ascending=False)"
      ]
    },
    {
      "cell_type": "markdown",
      "metadata": {
        "id": "JaMqT3t7AS6l"
      },
      "source": [
        "### 2.11 Sorting wrt to column name"
      ]
    },
    {
      "cell_type": "code",
      "execution_count": null,
      "metadata": {
        "id": "m0tB92EwAS6l"
      },
      "outputs": [],
      "source": [
        "df.sort_values(by='B', ascending=True)"
      ]
    },
    {
      "cell_type": "markdown",
      "metadata": {
        "id": "NbBUpKTiAS6m"
      },
      "source": [
        "### 2.12 Selecting Data"
      ]
    },
    {
      "cell_type": "markdown",
      "metadata": {
        "id": "PoebcnhzAS6n"
      },
      "source": [
        "##### Example 1"
      ]
    },
    {
      "cell_type": "code",
      "execution_count": null,
      "metadata": {
        "id": "Q2xy7yZOAS61"
      },
      "outputs": [],
      "source": [
        "df[df > 0]     # Put NaN where condition is false"
      ]
    },
    {
      "cell_type": "markdown",
      "metadata": {
        "id": "slYzxwijAS61"
      },
      "source": [
        "##### Example 2"
      ]
    },
    {
      "cell_type": "code",
      "execution_count": null,
      "metadata": {
        "id": "sOaUjOfVAS62"
      },
      "outputs": [],
      "source": [
        "df[df['A'] > 0]"
      ]
    },
    {
      "cell_type": "markdown",
      "metadata": {
        "id": "hBQB7ketAS62"
      },
      "source": [
        "## <span style='color:Red'> 3. Operations on DataFrames</span>\n",
        "- Select\n",
        "- Append\n",
        "- Concatinate\n",
        "- Join\n",
        "- Merge"
      ]
    },
    {
      "cell_type": "markdown",
      "metadata": {
        "id": "OujRLthsAS62"
      },
      "source": [
        "### 3.1 Accessing data from data frame - Part 1\n",
        "\n",
        "#### Syntax\n",
        "- #### df [ Row] [ Col ]\n",
        "- #### df [ Row_Range ] [ Col_Names_in_List ]"
      ]
    },
    {
      "cell_type": "code",
      "execution_count": null,
      "metadata": {
        "id": "jtlivyudAS63"
      },
      "outputs": [],
      "source": [
        "# Un-comment each row and run\n",
        "\n",
        "#df                       # Show all records\n",
        "#df[:]                    # Show all records\n",
        "#df[1:4]                  # Show 1,2,3 rows of all Columns\n",
        "#df[:]['A']               # Show all rows of Column A\n",
        "#df[:]['A','B']           # Error; Column names must be in the list\n",
        "#df[:][['A','B']]         # Show all rows of Column A, B\n",
        "#df[1:3][['A','B','C']]   # Show 1,2 rows of Column A, B, C"
      ]
    },
    {
      "cell_type": "markdown",
      "metadata": {
        "id": "h0VRWBuJAS63"
      },
      "source": [
        "### 3.2 Accessing data from data frame using column names (using loc) - Part 2 \n",
        "#### Syntax\n",
        "- #### df.loc [ Row_Range , Col_Names_in_List ]"
      ]
    },
    {
      "cell_type": "code",
      "execution_count": null,
      "metadata": {
        "id": "X6YXbLiLAS63"
      },
      "outputs": [],
      "source": [
        "# Un-comment each row and run\n",
        "\n",
        "#df.loc                       # Print the memory location\n",
        "#df.loc[1:4]                  # Show 1,2,3 rows of all Columns\n",
        "#df.loc[:]                    # Show all records\n",
        "#df.loc[:, ]                  # Show all records\n",
        "#df.loc[:, :]                 # Show all records\n",
        "#df.loc[: , 'A','B']          # Error; Column names must be in the list\n",
        "#df.loc[: , ['A','B']]        # Show all rows of Column A, B\n",
        "#df.loc[2: , ['A','B','D']]   # Show rows from 2 to end of A, B, D columns\n",
        "#df.loc[2: , ]                # Show rows from 2 to end of all columns\n",
        "#df.loc[1:3, ['A','B','D']]   # Show rows from 1 to 3 of A, B, D columns\n",
        "#df.loc[:, []]                # Show all index but no columns value\n",
        "#df.loc[:-1, ]                # Show column names"
      ]
    },
    {
      "cell_type": "markdown",
      "metadata": {
        "id": "GkG5m0lXAS64"
      },
      "source": [
        "### 3.3 Accessing data from data frame using column index (using iloc) - Part 3\n",
        "#### Syntax\n",
        "- #### df.iloc [ Row_Range, Col_Index_in List ]"
      ]
    },
    {
      "cell_type": "code",
      "execution_count": null,
      "metadata": {
        "id": "Tlb4NHlcAS65"
      },
      "outputs": [],
      "source": [
        "# Un-comment each row and run\n",
        "\n",
        "#df.iloc[,]                    # Error\n",
        "#df.iloc[:,]                   # Show all rows of all columns\n",
        "#df.iloc[:,1,2,3]              # Error\n",
        "#df.iloc[:,[1,2,3]]            # Show all rows of 1, 2, 3 columns\n",
        "#df.iloc[2:,]                  # Show rows from 2 to end of all columns\n",
        "#df.iloc[2:, [0,1,3]]          # Show rows from 2 to end of 0, 1, 3 columns\n",
        "#df.iloc[1:3, ]                # Show rows from 1 to 3 of all columns\n",
        "#df.iloc[1:3, [0,1]]           # Show rows from 1 to 3 of 0, 1 columns\n",
        "#df.iloc[1:3, 1:5]             # Show rows from 1 to 3 of 1-4 columns\n",
        "#df.iloc[1:3, :5]              # Show rows from 1 to 3 of 0-4 columns\n",
        "#df.iloc[1:3, :-2]             # Show rows from 1 to 3 of 0 to 2nd last columns\n",
        "#df.iloc[:-2, 1:3]             # Show rows from 0 to 2nd last of 1-2 columns"
      ]
    },
    {
      "cell_type": "markdown",
      "metadata": {
        "id": "7ZRR4IKaAS66"
      },
      "source": [
        "### 3.4 Concatenate data frames"
      ]
    },
    {
      "cell_type": "code",
      "execution_count": null,
      "metadata": {
        "id": "rWqoFuwsAS66"
      },
      "outputs": [],
      "source": [
        "import pandas as pd \n",
        "import numpy as np\n",
        "\n",
        "df1 = pd.DataFrame(np.random.randn(5, 4))\n",
        "df1"
      ]
    },
    {
      "cell_type": "code",
      "execution_count": null,
      "metadata": {
        "id": "12WJ4SnoAS66"
      },
      "outputs": [],
      "source": [
        "df2 = pd.DataFrame(np.random.randn(4, 3))\n",
        "df2"
      ]
    },
    {
      "cell_type": "markdown",
      "metadata": {
        "id": "LfCyE485AS66"
      },
      "source": [
        "##### axis = 1 (Merge column wise)"
      ]
    },
    {
      "cell_type": "code",
      "execution_count": null,
      "metadata": {
        "id": "EheIWCwmAS68"
      },
      "outputs": [],
      "source": [
        "df3 = pd.concat([df1,df2], axis=1)\n",
        "df3"
      ]
    },
    {
      "cell_type": "markdown",
      "metadata": {
        "id": "Eun8NlNLAS68"
      },
      "source": [
        "##### axis = 0 (Merge row wise)"
      ]
    },
    {
      "cell_type": "code",
      "execution_count": null,
      "metadata": {
        "id": "3t0kE_RxAS68"
      },
      "outputs": [],
      "source": [
        "df3 = pd.concat([df1,df2], axis=0)\n",
        "df3"
      ]
    },
    {
      "cell_type": "markdown",
      "metadata": {
        "id": "_wAgXFXPAS69"
      },
      "source": [
        "##### Change index using reset_index()"
      ]
    },
    {
      "cell_type": "code",
      "execution_count": null,
      "metadata": {
        "id": "Wq_mwcu2AS69"
      },
      "outputs": [],
      "source": [
        "df3.reset_index(drop=True, inplace=True)\n",
        "df3"
      ]
    },
    {
      "cell_type": "markdown",
      "metadata": {
        "id": "JCWVCKRlAS69"
      },
      "source": [
        "##### ignore_index=True"
      ]
    },
    {
      "cell_type": "code",
      "execution_count": null,
      "metadata": {
        "id": "J446iqvQAS69"
      },
      "outputs": [],
      "source": [
        "df3 = pd.concat([df1,df2], ignore_index=True)\n",
        "df3"
      ]
    },
    {
      "cell_type": "markdown",
      "metadata": {
        "id": "PtmYvNgDAS6-"
      },
      "source": [
        "### 3.5 Shuffle data frames (row wise)"
      ]
    },
    {
      "cell_type": "code",
      "execution_count": null,
      "metadata": {
        "id": "yvdUCs1tAS6-"
      },
      "outputs": [],
      "source": [
        "df3.sample(frac=1)"
      ]
    },
    {
      "cell_type": "markdown",
      "metadata": {
        "id": "0Ck_6JL8AS6_"
      },
      "source": [
        "### 3.6 Concatenate data frames using join = 'inner' (intersection)"
      ]
    },
    {
      "cell_type": "code",
      "execution_count": null,
      "metadata": {
        "id": "Q0EjRD4rAS6_"
      },
      "outputs": [],
      "source": [
        "import pandas as pd \n",
        "import numpy as np\n",
        "\n",
        "df1 = pd.DataFrame(np.random.randn(5, 4))\n",
        "df1"
      ]
    },
    {
      "cell_type": "code",
      "execution_count": null,
      "metadata": {
        "id": "iiSnWyPIAS7A"
      },
      "outputs": [],
      "source": [
        "df2 = pd.DataFrame(np.random.randn(4, 3))\n",
        "df2"
      ]
    },
    {
      "cell_type": "markdown",
      "metadata": {
        "id": "m2Iu8glXAS7A"
      },
      "source": [
        "##### join = 'inner' and axis = 0 (intersection of dataframe columnwise)"
      ]
    },
    {
      "cell_type": "code",
      "execution_count": null,
      "metadata": {
        "id": "fBxU0AFLAS7A"
      },
      "outputs": [],
      "source": [
        "df3 = pd.concat([df1,df2],axis=0, join=\"inner\")\n",
        "df3"
      ]
    },
    {
      "cell_type": "markdown",
      "metadata": {
        "id": "yNEYIErbAS7B"
      },
      "source": [
        "##### join = 'inner' and axis = 1 (intersection of dataframe row wise; using index)"
      ]
    },
    {
      "cell_type": "code",
      "execution_count": null,
      "metadata": {
        "id": "uafWt7DuAS7B"
      },
      "outputs": [],
      "source": [
        "df3 = pd.concat([df1,df2],axis=1, join=\"inner\")\n",
        "df3"
      ]
    },
    {
      "cell_type": "markdown",
      "metadata": {
        "id": "A86pHnMFAS7C"
      },
      "source": [
        "### 3.7 Concatenate data frames using join = 'outer' (union)"
      ]
    },
    {
      "cell_type": "code",
      "execution_count": null,
      "metadata": {
        "id": "jrUFZN0XAS7C"
      },
      "outputs": [],
      "source": [
        "import pandas as pd \n",
        "import numpy as np\n",
        "\n",
        "df1 = pd.DataFrame(np.random.randn(5, 4))\n",
        "df1"
      ]
    },
    {
      "cell_type": "code",
      "execution_count": null,
      "metadata": {
        "id": "cNWXO4TyAS7D"
      },
      "outputs": [],
      "source": [
        "df2 = pd.DataFrame(np.random.randn(4, 3))\n",
        "df2"
      ]
    },
    {
      "cell_type": "markdown",
      "metadata": {
        "id": "Sq7AQVygAS7D"
      },
      "source": [
        "##### join = 'outer' and axis = 0 (union of dataframe columnwise)"
      ]
    },
    {
      "cell_type": "code",
      "execution_count": null,
      "metadata": {
        "id": "qVrBOC_-AS7D"
      },
      "outputs": [],
      "source": [
        "df3 = pd.concat([df1,df2],axis=0, join=\"outer\")\n",
        "df3"
      ]
    },
    {
      "cell_type": "markdown",
      "metadata": {
        "id": "24zwSuwmAS7D"
      },
      "source": [
        "##### join = 'outer' and axis = 1 (union of dataframe row wise; using index)"
      ]
    },
    {
      "cell_type": "code",
      "execution_count": null,
      "metadata": {
        "id": "P8LeG5WwAS7D"
      },
      "outputs": [],
      "source": [
        "df3 = pd.concat([df1,df2],axis=1, join=\"outer\")\n",
        "df3"
      ]
    },
    {
      "cell_type": "markdown",
      "metadata": {
        "id": "LGoi_YqvAS7E"
      },
      "source": [
        "## <span style='color:Red'> Join Data frames using merge()</span>\n",
        "- Pandas have options for high-performance in-memory merging and joining.\n",
        "- When we need to combine very large DataFrames, joins serve as a powerful way to perform these operations swiftly.\n",
        "- Joins can only be done on two DataFrames at a time, denoted as left and right tables. \n",
        "- The key is the common column that the two DataFrames will be joined on. \n",
        "- It’s a good practice to use keys which have unique values throughout the column to avoid unintended duplication of row values. \n",
        "- Pandas provide a single function, merge(), as the entry point for all standard database join operations between DataFrame objects. \n",
        "- There are four basic ways to handle the join (inner, left, right, and outer), depending on which rows must retain their data"
      ]
    },
    {
      "cell_type": "markdown",
      "metadata": {
        "id": "owEoOW9ZAS7E"
      },
      "source": [
        "### 3.8 Merge 1: Merging a dataframe with one unique key combination"
      ]
    },
    {
      "cell_type": "code",
      "execution_count": null,
      "metadata": {
        "id": "bItrLQ2xAS7F"
      },
      "outputs": [],
      "source": [
        "import pandas as pd \n",
        " \n",
        "# Define a dictionary containing employee data \n",
        "df1 = pd.DataFrame({'Key': ['K0', 'K1', 'K2', 'K3'],\n",
        "         'Name':['Jai', 'Princi', 'Gaurav', 'Anuj'], \n",
        "        'Age':[27, 24, 22, 32],})\n",
        "df1"
      ]
    },
    {
      "cell_type": "code",
      "execution_count": null,
      "metadata": {
        "id": "f-w-tGVTAS7G"
      },
      "outputs": [],
      "source": [
        "df2 = pd.DataFrame({'Key': ['K0', 'K1', 'K2', 'K3'],\n",
        "         'Address':['Nagpur', 'Kanpur', 'Allahabad', 'Kannuaj'], \n",
        "        'Qualification':['Btech', 'B.A', 'Bcom', 'B.hons']})\n",
        "df2"
      ]
    },
    {
      "cell_type": "markdown",
      "metadata": {
        "id": "mAZBmLk7AS7G"
      },
      "source": [
        "##### Merge with one unique key combination"
      ]
    },
    {
      "cell_type": "code",
      "execution_count": null,
      "metadata": {
        "id": "LZ4ufybEAS7H"
      },
      "outputs": [],
      "source": [
        "df3 = pd.merge(df1, df2, on='Key')\n",
        "df3"
      ]
    },
    {
      "cell_type": "markdown",
      "metadata": {
        "id": "PTV6XsK5AS7H"
      },
      "source": [
        "### 3.9 Merge 2: Merging dataframe using multiple join keys"
      ]
    },
    {
      "cell_type": "code",
      "execution_count": null,
      "metadata": {
        "id": "rPH7iVJzAS7H"
      },
      "outputs": [],
      "source": [
        "# importing pandas module\n",
        "import pandas as pd \n",
        " \n",
        "df1 = pd.DataFrame({'Key1': ['K0', 'K1', 'K2', 'K3'],\n",
        "         'Key2': ['K0', 'K1', 'K0', 'K1'],\n",
        "         'Name':['Jai', 'Princi', 'Gaurav', 'Anuj'], \n",
        "        'Age':[27, 24, 22, 32],})\n",
        "df1"
      ]
    },
    {
      "cell_type": "code",
      "execution_count": null,
      "metadata": {
        "id": "LSjsUdseAS7I"
      },
      "outputs": [],
      "source": [
        "df2 = pd.DataFrame({'Key1': ['K0', 'K1', 'K2', 'K3'],\n",
        "         'Key2': ['K0', 'K0', 'K0', 'K0'],\n",
        "         'Address':['Nagpur', 'Kanpur', 'Allahabad', 'Kannuaj'], \n",
        "        'Qualification':['BTech', 'BA', 'BCom', 'BE']})\n",
        "df2"
      ]
    },
    {
      "cell_type": "markdown",
      "metadata": {
        "id": "ymeEK8z1AS7I"
      },
      "source": [
        "##### Merge dataframe using multiple keys"
      ]
    },
    {
      "cell_type": "code",
      "execution_count": null,
      "metadata": {
        "id": "uD2om3iZAS7J"
      },
      "outputs": [],
      "source": [
        "df3 = pd.merge(df1, df2, on=['Key1', 'Key2'])\n",
        "df3"
      ]
    },
    {
      "cell_type": "markdown",
      "metadata": {
        "id": "Be1_BBN-AS7K"
      },
      "source": [
        "### 3.10 Merge 3: Merging dataframe using <span style='color:Red'> how </span> in an argument\n",
        "- We use how argument to merge specifies how to determine which keys are to be included in the resulting table. \n",
        "- If a key combination does not appear in either the left or right tables, the values in the joined table will be NA. \n",
        "- Here is a summary of the how options and their SQL equivalent names:"
      ]
    },
    {
      "cell_type": "markdown",
      "metadata": {
        "id": "3-A0M3JQAS7K"
      },
      "source": [
        "![title](imgDay13\\02.png)"
      ]
    },
    {
      "cell_type": "markdown",
      "metadata": {
        "id": "HSXL-JqIAS7K"
      },
      "source": [
        "![title](imgDay13\\01.png)"
      ]
    },
    {
      "cell_type": "markdown",
      "metadata": {
        "id": "GAccEuK2AS7L"
      },
      "source": [
        "##### Merge using keys from left data frame"
      ]
    },
    {
      "cell_type": "code",
      "execution_count": null,
      "metadata": {
        "id": "NxfbGRooAS7L"
      },
      "outputs": [],
      "source": [
        "df3 = pd.merge(df1, df2, on=['Key1', 'Key2'],how='left')\n",
        "df3"
      ]
    },
    {
      "cell_type": "markdown",
      "metadata": {
        "id": "Uz3SvX26AS7L"
      },
      "source": [
        "##### Merge using keys from right data frame"
      ]
    },
    {
      "cell_type": "code",
      "execution_count": null,
      "metadata": {
        "id": "gHuuNFlWAS7L"
      },
      "outputs": [],
      "source": [
        "df3 = pd.merge(df1, df2, on=['Key1', 'Key2'],how='right')\n",
        "df3"
      ]
    },
    {
      "cell_type": "markdown",
      "metadata": {
        "id": "zlFkIUaGAS7M"
      },
      "source": [
        "##### Merge using keys from outer data frame"
      ]
    },
    {
      "cell_type": "code",
      "execution_count": null,
      "metadata": {
        "id": "QIGjvjgrAS7N"
      },
      "outputs": [],
      "source": [
        "df3 = pd.merge(df1, df2, on=['Key1', 'Key2'],how='outer')\n",
        "df3"
      ]
    },
    {
      "cell_type": "markdown",
      "metadata": {
        "id": "GhrcbH7dAS7O"
      },
      "source": [
        "##### Merge using keys from inner data frame"
      ]
    },
    {
      "cell_type": "code",
      "execution_count": null,
      "metadata": {
        "id": "FC_wr4srAS7P"
      },
      "outputs": [],
      "source": [
        "df3 = pd.merge(df1, df2, on=['Key1', 'Key2'],how='inner')\n",
        "df3"
      ]
    },
    {
      "cell_type": "markdown",
      "metadata": {
        "id": "xZVz1AcNAS7R"
      },
      "source": [
        "### 3.11  Concatenating DataFrame using .append()"
      ]
    },
    {
      "cell_type": "code",
      "execution_count": null,
      "metadata": {
        "id": "EVngSS4OAS7R"
      },
      "outputs": [],
      "source": [
        "# importing pandas module\n",
        "import pandas as pd \n",
        " \n",
        "df1 = pd.DataFrame({'Name':['Jai', 'Princi', 'Gaurav', 'Anuj'], \n",
        "        'Age':[27, 24, 22, 32], \n",
        "        'Address':['Nagpur', 'Kanpur', 'Allahabad', 'Kannuaj'], \n",
        "        'Qualification':['Msc', 'MA', 'MCA', 'Phd']}, index=[0, 1, 2, 3])\n",
        "df1"
      ]
    },
    {
      "cell_type": "code",
      "execution_count": null,
      "metadata": {
        "id": "XcDFmYwsAS7S"
      },
      "outputs": [],
      "source": [
        "df2 = pd.DataFrame({'Name':['Abhi', 'Ayushi', 'Dhiraj', 'Hitesh'], \n",
        "        'Age':[17, 14, 12, 52], \n",
        "        'Address':['Nagpur', 'Kanpur', 'Allahabad', 'Kannuaj'], \n",
        "        'Qualification':['Btech', 'B.A', 'Bcom', 'B.hons']}, index=[4, 5, 6, 7])\n",
        "df2"
      ]
    },
    {
      "cell_type": "code",
      "execution_count": null,
      "metadata": {
        "id": "AGltV-W2AS7T"
      },
      "outputs": [],
      "source": [
        "df3 = df1.append(df2)\n",
        "df3"
      ]
    },
    {
      "cell_type": "markdown",
      "metadata": {
        "id": "crUn2kMSAS7T"
      },
      "source": [
        "## <span style='color:Red'> 4. Working with Date</span>\n",
        "### 4.1 Generate dates for a period (days)\n",
        "\n",
        "##### Example 1"
      ]
    },
    {
      "cell_type": "code",
      "execution_count": null,
      "metadata": {
        "id": "79XZL2PAAS7U"
      },
      "outputs": [],
      "source": [
        "import pandas as pd\n",
        "dates = pd.date_range('20130101', periods = 6)\n",
        "dates"
      ]
    },
    {
      "cell_type": "markdown",
      "metadata": {
        "id": "On9SUl-uAS7U"
      },
      "source": [
        "##### Example 2"
      ]
    },
    {
      "cell_type": "code",
      "execution_count": null,
      "metadata": {
        "id": "DwoQU-SJAS7V"
      },
      "outputs": [],
      "source": [
        "import pandas as pd\n",
        "dates = pd.date_range(start='1/1/2018', periods = 10)\n",
        "dates"
      ]
    },
    {
      "cell_type": "markdown",
      "metadata": {
        "id": "RNqQBPmjAS7W"
      },
      "source": [
        "### 4.2 Generate dates within range\n",
        "##### Example 1"
      ]
    },
    {
      "cell_type": "code",
      "execution_count": null,
      "metadata": {
        "id": "9USyquIzAS7W"
      },
      "outputs": [],
      "source": [
        "import pandas as pd\n",
        "dates = pd.date_range(start='1/1/2018', end='1/15/2018')\n",
        "dates"
      ]
    },
    {
      "cell_type": "markdown",
      "metadata": {
        "id": "dKqW0tkWAS7W"
      },
      "source": [
        "##### Example 2"
      ]
    },
    {
      "cell_type": "code",
      "execution_count": null,
      "metadata": {
        "id": "LnKYbWEnAS7X"
      },
      "outputs": [],
      "source": [
        "import pandas as pd\n",
        "dates = pd.date_range(start='1-1-2018', end='1/15/2018')\n",
        "dates"
      ]
    },
    {
      "cell_type": "markdown",
      "metadata": {
        "id": "fC90vLJdAS7X"
      },
      "source": [
        "### 4.3 Generate dates till end date"
      ]
    },
    {
      "cell_type": "code",
      "execution_count": null,
      "metadata": {
        "id": "c5RSBCltAS7Y"
      },
      "outputs": [],
      "source": [
        "import pandas as pd\n",
        "dates = pd.date_range(end='1/1/2018', periods=12)\n",
        "dates"
      ]
    },
    {
      "cell_type": "markdown",
      "metadata": {
        "id": "Do_PIMjPAS7Y"
      },
      "source": [
        "### 4.4 Generate dates with days frequency with multiple GAP"
      ]
    },
    {
      "cell_type": "code",
      "execution_count": null,
      "metadata": {
        "id": "WVDTw-UvAS7Z"
      },
      "outputs": [],
      "source": [
        "import pandas as pd\n",
        "dates = pd.date_range(start='1/1/2018', periods=12, freq='2D')  # D = Days\n",
        "dates"
      ]
    },
    {
      "cell_type": "markdown",
      "metadata": {
        "id": "D5BUo1kgAS7Z"
      },
      "source": [
        "### 4.5 Generate dates with month frequency"
      ]
    },
    {
      "cell_type": "code",
      "execution_count": null,
      "metadata": {
        "id": "r_CsI9zvAS7a"
      },
      "outputs": [],
      "source": [
        "import pandas as pd\n",
        "dates = pd.date_range(start='1/1/2018', periods=5, freq='M')   # M = Months\n",
        "dates"
      ]
    },
    {
      "cell_type": "markdown",
      "metadata": {
        "id": "QYuSGzBAAS7b"
      },
      "source": [
        "### 4.6 Generate dates with month frequency with multiple GAP"
      ]
    },
    {
      "cell_type": "code",
      "execution_count": null,
      "metadata": {
        "id": "HwXzudk7AS7d"
      },
      "outputs": [],
      "source": [
        "import pandas as pd\n",
        "dates = pd.date_range(start='1/1/2018', periods=5, freq='3M')    # M = Months\n",
        "dates"
      ]
    },
    {
      "cell_type": "markdown",
      "metadata": {
        "id": "f2wmQx9sAS7d"
      },
      "source": [
        "### 4.7 Generate dates with month frequency with END OF MONTH "
      ]
    },
    {
      "cell_type": "code",
      "execution_count": null,
      "metadata": {
        "id": "HPb9cWt_AS7e"
      },
      "outputs": [],
      "source": [
        "import pandas as pd\n",
        "dates = pd.date_range(start='2/25/2018', periods=5, freq=pd.offsets.MonthEnd(3))\n",
        "dates"
      ]
    },
    {
      "cell_type": "markdown",
      "metadata": {
        "id": "VXecFxNeAS7f"
      },
      "source": [
        "### 4.8 Generate dates with month frequency with START OF MONTH "
      ]
    },
    {
      "cell_type": "code",
      "execution_count": null,
      "metadata": {
        "id": "30XeVSusAS7f"
      },
      "outputs": [],
      "source": [
        "import pandas as pd\n",
        "dates = pd.date_range(start='1/10/2018', periods=5, freq=pd.offsets.MonthBegin(1))\n",
        "dates"
      ]
    },
    {
      "cell_type": "markdown",
      "metadata": {
        "id": "hpq1przyAS7g"
      },
      "source": [
        "### 4.9 Generate random data frame with date as index"
      ]
    },
    {
      "cell_type": "code",
      "execution_count": null,
      "metadata": {
        "id": "eHfH5AnHAS7h"
      },
      "outputs": [],
      "source": [
        "import pandas as pd\n",
        "import numpy as np\n",
        "\n",
        "dates = pd.date_range('20130101', periods=6)\n",
        "print(dates)\n",
        "\n",
        "#Generate a random matrix of 6 by 4\n",
        "df = pd.DataFrame(np.random.randn(6, 4), index=dates, columns=list('ABCD'))\n",
        "df"
      ]
    }
  ],
  "metadata": {
    "kernelspec": {
      "display_name": "Python 3",
      "language": "python",
      "name": "python3"
    },
    "language_info": {
      "codemirror_mode": {
        "name": "ipython",
        "version": 3
      },
      "file_extension": ".py",
      "mimetype": "text/x-python",
      "name": "python",
      "nbconvert_exporter": "python",
      "pygments_lexer": "ipython3",
      "version": "3.7.7"
    },
    "colab": {
      "provenance": []
    }
  },
  "nbformat": 4,
  "nbformat_minor": 0
}